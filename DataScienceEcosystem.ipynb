{
 "cells": [
  {
   "cell_type": "markdown",
   "id": "32040d9c-1993-4ae6-b2c9-1cb4e1c7f933",
   "metadata": {},
   "source": [
    "# Data Science Tools and Ecosystem"
   ]
  },
  {
   "cell_type": "markdown",
   "id": "cca94426-3221-46c4-b493-fff95ec08a4b",
   "metadata": {},
   "source": [
    "**Objectives:**\n",
    "\n",
    "- List popular languages for Data Science.\n",
    "- Explore commonly used libraries in Data Science.\n",
    "- Understand development environment tools used in Data Science.\n",
    "- Learn how to evaluate arithmetic expressions in Python.\n",
    "- Convert units using Python arithmetic operations.\n"
   ]
  },
  {
   "cell_type": "markdown",
   "id": "d088f9cd-42ae-4057-921a-096d0153d0d3",
   "metadata": {},
   "source": [
    "In this notebook, Data Science Tools and Ecosystem are summarized"
   ]
  },
  {
   "cell_type": "markdown",
   "id": "e0990036-d074-4081-92f1-9d408eda98d8",
   "metadata": {},
   "source": [
    "Some of the popular languages that Data Scientists use are:\n",
    "+ PYTHON\n",
    "+ R\n",
    "+ SQL"
   ]
  },
  {
   "cell_type": "markdown",
   "id": "bf3f7eaa-067f-4f60-ac63-189e7f3eabcf",
   "metadata": {},
   "source": [
    "Some of the commonly used libraries used by Data Scientists include:\n",
    "+ NUMPY\n",
    "+ PANDAS\n",
    "+ SACET"
   ]
  },
  {
   "cell_type": "markdown",
   "id": "93c189ef-ea60-4b67-8ce3-cacbc4dfcdf0",
   "metadata": {},
   "source": [
    "| Data Science Tools      |\n",
    "|--------------------------|\n",
    "| Jupyter Notebook         |\n",
    "| RStudio                  |\n",
    "| Microsoft Visual Studio          |\n"
   ]
  },
  {
   "cell_type": "markdown",
   "id": "98a20158-5457-43ca-aab1-636d389f797a",
   "metadata": {},
   "source": [
    "### Below are a few examples of evaluating arithmetic expressions in Python."
   ]
  },
  {
   "cell_type": "code",
   "execution_count": 3,
   "id": "922c4840-3044-43f5-be6c-047920414ae8",
   "metadata": {},
   "outputs": [
    {
     "data": {
      "text/plain": [
       "17"
      ]
     },
     "execution_count": 3,
     "metadata": {},
     "output_type": "execute_result"
    }
   ],
   "source": [
    "# This a simple arithmetic expression to mutiply then add integers\n",
    "(3*4)+5"
   ]
  },
  {
   "cell_type": "code",
   "execution_count": 6,
   "id": "851ffc84-92f4-46d0-8973-bd803e9a26ac",
   "metadata": {},
   "outputs": [
    {
     "data": {
      "text/plain": [
       "3"
      ]
     },
     "execution_count": 6,
     "metadata": {},
     "output_type": "execute_result"
    }
   ],
   "source": [
    "# This will convert 200 minutes to hours by diving by 60\n",
    "hours=int(200/60)\n",
    "hours"
   ]
  },
  {
   "cell_type": "markdown",
   "id": "8733d53b-2d12-4c6d-afab-da492974c197",
   "metadata": {},
   "source": [
    "## Author\n",
    "\n",
    "Metanha YEO\n"
   ]
  },
  {
   "cell_type": "code",
   "execution_count": null,
   "id": "378c6b37-43b2-4c63-8442-95ca5b3d1faf",
   "metadata": {},
   "outputs": [],
   "source": []
  }
 ],
 "metadata": {
  "kernelspec": {
   "display_name": "Python 3 (ipykernel)",
   "language": "python",
   "name": "python3"
  },
  "language_info": {
   "codemirror_mode": {
    "name": "ipython",
    "version": 3
   },
   "file_extension": ".py",
   "mimetype": "text/x-python",
   "name": "python",
   "nbconvert_exporter": "python",
   "pygments_lexer": "ipython3",
   "version": "3.12.4"
  }
 },
 "nbformat": 4,
 "nbformat_minor": 5
}
